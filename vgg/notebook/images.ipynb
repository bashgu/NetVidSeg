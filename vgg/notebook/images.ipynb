{
 "cells": [
  {
   "cell_type": "markdown",
   "metadata": {},
   "source": [
    "https://habrahabr.ru/post/314490/\n",
    "\n",
    "conda install tensorflow\n",
    "\n",
    "pip install git+git://github.com/Theano/Theano.git\n",
    "\n",
    "pip install git+git://github.com/fchollet/keras.git\n",
    "\n",
    "conda config --add channels menpo\n",
    "\n",
    "conda install opencv"
   ]
  },
  {
   "cell_type": "code",
   "execution_count": 1,
   "metadata": {
    "collapsed": false
   },
   "outputs": [
    {
     "name": "stderr",
     "output_type": "stream",
     "text": [
      "Using Theano backend.\n"
     ]
    }
   ],
   "source": [
    "%matplotlib inline\n",
    "from keras.models import Sequential\n",
    "from keras.layers.core import Flatten, Dense, Dropout\n",
    "from keras.layers.convolutional import Convolution2D, MaxPooling2D, ZeroPadding2D\n",
    "from keras.optimizers import SGD\n",
    "import cv2, numpy as np\n",
    "import os\n",
    "import h5py\n",
    "from matplotlib import pyplot as plt\n",
    "\n",
    "import theano\n",
    "theano.config.openmp = True"
   ]
  },
  {
   "cell_type": "code",
   "execution_count": 2,
   "metadata": {
    "collapsed": false
   },
   "outputs": [
    {
     "name": "stdout",
     "output_type": "stream",
     "text": [
      "Model loaded.\n"
     ]
    }
   ],
   "source": [
    "def VGG_16(weights_path=None):\n",
    "    model = Sequential()\n",
    "    model.add(ZeroPadding2D((1,1),input_shape=(3,224,224)))\n",
    "    model.add(Convolution2D(64, 3, 3, activation='relu'))\n",
    "    model.add(ZeroPadding2D((1,1)))\n",
    "    model.add(Convolution2D(64, 3, 3, activation='relu'))\n",
    "    model.add(MaxPooling2D((2,2), strides=(2,2)))\n",
    "\n",
    "    model.add(ZeroPadding2D((1,1)))\n",
    "    model.add(Convolution2D(128, 3, 3, activation='relu'))\n",
    "    model.add(ZeroPadding2D((1,1)))\n",
    "    model.add(Convolution2D(128, 3, 3, activation='relu'))\n",
    "    model.add(MaxPooling2D((2,2), strides=(2,2)))\n",
    "\n",
    "    model.add(ZeroPadding2D((1,1)))\n",
    "    model.add(Convolution2D(256, 3, 3, activation='relu'))\n",
    "    model.add(ZeroPadding2D((1,1)))\n",
    "    model.add(Convolution2D(256, 3, 3, activation='relu'))\n",
    "    model.add(ZeroPadding2D((1,1)))\n",
    "    model.add(Convolution2D(256, 3, 3, activation='relu'))\n",
    "    model.add(MaxPooling2D((2,2), strides=(2,2)))\n",
    "\n",
    "    model.add(ZeroPadding2D((1,1)))\n",
    "    model.add(Convolution2D(512, 3, 3, activation='relu'))\n",
    "    model.add(ZeroPadding2D((1,1)))\n",
    "    model.add(Convolution2D(512, 3, 3, activation='relu'))\n",
    "    model.add(ZeroPadding2D((1,1)))\n",
    "    model.add(Convolution2D(512, 3, 3, activation='relu'))\n",
    "    model.add(MaxPooling2D((2,2), strides=(2,2)))\n",
    "\n",
    "    model.add(ZeroPadding2D((1,1)))\n",
    "    model.add(Convolution2D(512, 3, 3, activation='relu'))\n",
    "    model.add(ZeroPadding2D((1,1)))\n",
    "    model.add(Convolution2D(512, 3, 3, activation='relu'))\n",
    "    model.add(ZeroPadding2D((1,1)))\n",
    "    model.add(Convolution2D(512, 3, 3, activation='relu'))\n",
    "    model.add(MaxPooling2D((2,2), strides=(2,2)))\n",
    "\n",
    "    model.add(Flatten())\n",
    "    model.add(Dense(4096, activation='relu'))\n",
    "    model.add(Dropout(0.5))\n",
    "    model.add(Dense(4096, activation='relu'))\n",
    "#     model.add(Dropout(0.5))\n",
    "#     model.add(Dense(1000, activation='softmax'))\n",
    "\n",
    "\n",
    "    assert os.path.exists(weights_path), 'Model weights not found (see \"weights_path\" variable in script).'\n",
    "    f = h5py.File(weights_path)\n",
    "    for k in range(f.attrs['nb_layers']):\n",
    "        if k >= len(model.layers):\n",
    "        # we don't look at the last (fully-connected) layers in the savefile\n",
    "            break\n",
    "        g = f['layer_{}'.format(k)]\n",
    "        weights = [g['param_{}'.format(p)] for p in range(g.attrs['nb_params'])]\n",
    "        model.layers[k].set_weights(weights)\n",
    "    f.close()\n",
    "    print('Model loaded.')\n",
    "    return model\n",
    "\n",
    "\n",
    "model = VGG_16('vgg16_weights.h5')\n",
    "sgd = SGD(lr=0.1, decay=1e-6, momentum=0.9, nesterov=True)\n",
    "model.compile(optimizer=sgd, loss='categorical_crossentropy')"
   ]
  },
  {
   "cell_type": "code",
   "execution_count": 3,
   "metadata": {
    "collapsed": false
   },
   "outputs": [
    {
     "name": "stdout",
     "output_type": "stream",
     "text": [
      "1.jpg\n",
      "1hLF3Lc85H4.jpg\n",
      "1j9sKc5zceQ.jpg\n",
      "5e0rMflOBsY.jpg\n",
      "7GAfCT7A6ws.jpg\n",
      "9zMOyDvCfCY.jpg\n",
      "EJfOOVm6DmQ.jpg\n",
      "gzgWIG-YkDA.jpg\n",
      "h9C3QzpaZa8.jpg\n",
      "MS-sSVj1y1I.jpg\n",
      "oE6boCQrzU8.jpg\n",
      "O-y-9g0MGXA.jpg\n",
      "ya.jpg\n",
      "111111111.jpg\n",
      "aDjSG0XuxSU.jpg\n",
      "rcnqQDIJJYo.jpg\n",
      "pBY-D1YgJ1g.jpg\n",
      "76ImYigyHm0.jpg\n",
      "lP_Cw4CUvQ8.jpg\n",
      "8prZCBF-OrY.jpg\n",
      "PMtOdnRLbLY.jpg\n",
      "7xCWhuhc1MY.jpg\n",
      "J7hbk8ziRrI.jpg\n",
      "NXHhp4c15tU.jpg\n",
      "(24, 3, 224, 224)\n"
     ]
    }
   ],
   "source": [
    "path = \"./images/\"\n",
    "ims = []\n",
    "files = []\n",
    "for f in os.listdir(path):\n",
    "    print f\n",
    "    if (f.endswith(\".jpg\")) and (os.stat(path+f) > 10000):\n",
    "        try:\n",
    "            files.append(f.encode('utf-8'))\n",
    "            im = cv2.resize(cv2.imread(path+f), (224, 224)).astype(np.float32)\n",
    "    #         plt.imshow(im)\n",
    "    #         plt.show()\n",
    "            im[:,:,0] -= 103.939\n",
    "            im[:,:,1] -= 116.779\n",
    "            im[:,:,2] -= 123.68\n",
    "            im = im.transpose((2,0,1))\n",
    "            im = np.expand_dims(im, axis=0)\n",
    "            ims.append(im)\n",
    "        except:\n",
    "            print f\n",
    "\n",
    "images = np.vstack(ims)\n",
    "print images.shape"
   ]
  },
  {
   "cell_type": "code",
   "execution_count": null,
   "metadata": {
    "collapsed": false
   },
   "outputs": [],
   "source": [
    "# r1 =[]\n",
    "# r2= []\n",
    "# for i,x in enumerate(files):\n",
    "#     r1.append(((x[:-4]),i))\n",
    "#     r2.append((i,(x[:-4])))\n",
    "# extid_to_intid_dict = dict(r1)\n",
    "# intid_to_extid_dict = dict(r2)\n",
    "# print extid_to_intid_dict\n",
    "# print intid_to_extid_dict"
   ]
  },
  {
   "cell_type": "code",
   "execution_count": 4,
   "metadata": {
    "collapsed": false
   },
   "outputs": [
    {
     "name": "stdout",
     "output_type": "stream",
     "text": [
      "[[ 0.43810225  0.          0.         ...,  0.          0.          0.        ]\n",
      " [ 2.22679138  0.          0.         ...,  0.          5.31461573\n",
      "   0.03604525]\n",
      " [ 1.50524127  0.83813     0.         ...,  0.          1.77447152\n",
      "   0.09459919]\n",
      " ..., \n",
      " [ 0.15372232  0.          0.         ...,  0.          1.46440911\n",
      "   2.31832743]\n",
      " [ 0.34775668  0.          0.         ...,  0.          2.39366674\n",
      "   1.74745083]\n",
      " [ 0.          0.          0.         ...,  0.          0.          0.07502443]]\n",
      "(24, 4096)\n"
     ]
    }
   ],
   "source": [
    "out = model.predict(images)\n",
    "print out\n",
    "print out.shape"
   ]
  },
  {
   "cell_type": "code",
   "execution_count": null,
   "metadata": {
    "collapsed": false
   },
   "outputs": [],
   "source": [
    "import h5py\n",
    "h5f = h5py.File('data.h5', 'w')\n",
    "h5f.create_dataset('dataset_1', data=out)\n",
    "h5f.close()"
   ]
  },
  {
   "cell_type": "code",
   "execution_count": null,
   "metadata": {
    "collapsed": false
   },
   "outputs": [],
   "source": [
    "np.save('data', out)"
   ]
  },
  {
   "cell_type": "markdown",
   "metadata": {},
   "source": [
    "https://github.com/manahl/arctic"
   ]
  },
  {
   "cell_type": "code",
   "execution_count": 5,
   "metadata": {
    "collapsed": false
   },
   "outputs": [
    {
     "ename": "NameError",
     "evalue": "name 'extid_to_intid_dict' is not defined",
     "output_type": "error",
     "traceback": [
      "\u001b[0;31m---------------------------------------------------------------------------\u001b[0m",
      "\u001b[0;31mNameError\u001b[0m                                 Traceback (most recent call last)",
      "\u001b[0;32m<ipython-input-5-4a6244a51f67>\u001b[0m in \u001b[0;36m<module>\u001b[0;34m()\u001b[0m\n\u001b[1;32m      1\u001b[0m \u001b[0;32mfrom\u001b[0m \u001b[0msklearn\u001b[0m\u001b[0;34m.\u001b[0m\u001b[0mmetrics\u001b[0m\u001b[0;34m.\u001b[0m\u001b[0mpairwise\u001b[0m \u001b[0;32mimport\u001b[0m \u001b[0mpairwise_distances\u001b[0m\u001b[0;34m\u001b[0m\u001b[0m\n\u001b[1;32m      2\u001b[0m \u001b[0mextid\u001b[0m \u001b[0;34m=\u001b[0m \u001b[0;34m'PMtOdnRLbLY'\u001b[0m\u001b[0;34m\u001b[0m\u001b[0m\n\u001b[0;32m----> 3\u001b[0;31m \u001b[0mi\u001b[0m \u001b[0;34m=\u001b[0m \u001b[0mextid_to_intid_dict\u001b[0m\u001b[0;34m[\u001b[0m\u001b[0mstr\u001b[0m\u001b[0;34m(\u001b[0m\u001b[0mextid\u001b[0m\u001b[0;34m)\u001b[0m\u001b[0;34m]\u001b[0m\u001b[0;34m\u001b[0m\u001b[0m\n\u001b[0m\u001b[1;32m      4\u001b[0m \u001b[0;32mprint\u001b[0m \u001b[0mi\u001b[0m\u001b[0;34m\u001b[0m\u001b[0m\n\u001b[1;32m      5\u001b[0m \u001b[0mplt\u001b[0m\u001b[0;34m.\u001b[0m\u001b[0mimshow\u001b[0m\u001b[0;34m(\u001b[0m\u001b[0mcv2\u001b[0m\u001b[0;34m.\u001b[0m\u001b[0mimread\u001b[0m\u001b[0;34m(\u001b[0m\u001b[0mpath\u001b[0m\u001b[0;34m+\u001b[0m\u001b[0mfiles\u001b[0m\u001b[0;34m[\u001b[0m\u001b[0mi\u001b[0m\u001b[0;34m]\u001b[0m\u001b[0;34m)\u001b[0m\u001b[0;34m)\u001b[0m\u001b[0;34m\u001b[0m\u001b[0m\n",
      "\u001b[0;31mNameError\u001b[0m: name 'extid_to_intid_dict' is not defined"
     ]
    }
   ],
   "source": [
    "from sklearn.metrics.pairwise import pairwise_distances\n",
    "extid = 'PMtOdnRLbLY'\n",
    "i = extid_to_intid_dict[str(extid)]\n",
    "print i\n",
    "plt.imshow(cv2.imread(path+files[i]))\n",
    "plt.show()\n",
    "dist = pairwise_distances(out[i],out, metric='euclidean', n_jobs=1)\n",
    "\n",
    "top = np.argsort(dist[0])[0:7]\n",
    "\n",
    "for t in top:\n",
    "    print t,dist[0][t]\n",
    "    plt.imshow(cv2.imread(path+files[t]))\n",
    "    plt.show()"
   ]
  },
  {
   "cell_type": "code",
   "execution_count": null,
   "metadata": {
    "collapsed": false
   },
   "outputs": [],
   "source": [
    "import joblib\n",
    "joblib.dump((extid_to_intid_dict,intid_to_extid_dict,out),\"wo_1_layer.pkl\")"
   ]
  },
  {
   "cell_type": "code",
   "execution_count": null,
   "metadata": {
    "collapsed": true
   },
   "outputs": [],
   "source": []
  }
 ],
 "metadata": {
  "anaconda-cloud": {},
  "kernelspec": {
   "display_name": "Python [conda root]",
   "language": "python",
   "name": "conda-root-py"
  },
  "language_info": {
   "codemirror_mode": {
    "name": "ipython",
    "version": 2
   },
   "file_extension": ".py",
   "mimetype": "text/x-python",
   "name": "python",
   "nbconvert_exporter": "python",
   "pygments_lexer": "ipython2",
   "version": "2.7.12"
  }
 },
 "nbformat": 4,
 "nbformat_minor": 1
}
